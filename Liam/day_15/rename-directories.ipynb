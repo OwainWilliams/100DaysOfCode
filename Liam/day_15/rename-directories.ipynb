{
 "cells": [
  {
   "cell_type": "code",
   "execution_count": null,
   "id": "24f8565f",
   "metadata": {},
   "outputs": [
    {
     "name": "stdout",
     "output_type": "stream",
     "text": [
      "found directory with name day 5\n",
      "found directory with name day 3\n",
      "found directory with name day 14\n",
      "found directory with name day 13\n",
      "found directory with name day 12\n",
      "found directory with name day 8\n",
      "found directory with name day 6\n",
      "found directory with name day 7\n",
      "found directory with name day 9\n",
      "found directory with name day 10\n",
      "found directory with name day 11\n"
     ]
    }
   ],
   "source": [
    "import os\n",
    "\n",
    "def rename_liam_files(dir):\n",
    "    \"\"\"\n",
    "    Renames all files in the given directory\n",
    "    \"\"\"\n",
    "    for filename in os.listdir(dir):\n",
    "        if filename.startswith(\"day \"):\n",
    "            print(f'found directory with name {filename}')\n",
    "            new_name = filename.replace(\"day \", \"day_\")\n",
    "            os.rename(os.path.join(dir, filename), os.path.join(dir, new_name))\n",
    "\n",
    "rename_liam_files(\"../Liam\")"
   ]
  }
 ],
 "metadata": {
  "kernelspec": {
   "display_name": "etive_mor",
   "language": "python",
   "name": "python3"
  },
  "language_info": {
   "codemirror_mode": {
    "name": "ipython",
    "version": 3
   },
   "file_extension": ".py",
   "mimetype": "text/x-python",
   "name": "python",
   "nbconvert_exporter": "python",
   "pygments_lexer": "ipython3",
   "version": "3.12.9"
  }
 },
 "nbformat": 4,
 "nbformat_minor": 5
}
